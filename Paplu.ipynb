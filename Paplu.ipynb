{
 "cells": [
  {
   "cell_type": "code",
   "execution_count": 1,
   "metadata": {},
   "outputs": [],
   "source": [
    "import numpy as np\n",
    "import pandas as pd \n",
    "from pandas import Series,DataFrame\n",
    "import seaborn as sns \n",
    "import matplotlib.pyplot as plt\n",
    "%matplotlib inline \n",
    "from sklearn import preprocessing \n",
    "from sklearn.model_selection import cross_val_score"
   ]
  },
  {
   "cell_type": "code",
   "execution_count": 2,
   "metadata": {},
   "outputs": [],
   "source": [
    "data= pd.read_csv('C:/Users/User/Downloads/the.csv')"
   ]
  },
  {
   "cell_type": "code",
   "execution_count": 3,
   "metadata": {},
   "outputs": [
    {
     "data": {
      "text/html": [
       "<div>\n",
       "<style scoped>\n",
       "    .dataframe tbody tr th:only-of-type {\n",
       "        vertical-align: middle;\n",
       "    }\n",
       "\n",
       "    .dataframe tbody tr th {\n",
       "        vertical-align: top;\n",
       "    }\n",
       "\n",
       "    .dataframe thead th {\n",
       "        text-align: right;\n",
       "    }\n",
       "</style>\n",
       "<table border=\"1\" class=\"dataframe\">\n",
       "  <thead>\n",
       "    <tr style=\"text-align: right;\">\n",
       "      <th></th>\n",
       "      <th>Type_of_well</th>\n",
       "      <th>Well_Depth</th>\n",
       "      <th>Lattitude</th>\n",
       "      <th>Longitude</th>\n",
       "      <th>pH</th>\n",
       "      <th>Eh</th>\n",
       "      <th>Cond</th>\n",
       "      <th>Temp</th>\n",
       "      <th>DO</th>\n",
       "      <th>DOC</th>\n",
       "      <th>...</th>\n",
       "      <th>Si</th>\n",
       "      <th>SiO2</th>\n",
       "      <th>Sr</th>\n",
       "      <th>Zn</th>\n",
       "      <th>Cd</th>\n",
       "      <th>Cr</th>\n",
       "      <th>Cu</th>\n",
       "      <th>Mo</th>\n",
       "      <th>Ni</th>\n",
       "      <th>Pb</th>\n",
       "    </tr>\n",
       "  </thead>\n",
       "  <tbody>\n",
       "    <tr>\n",
       "      <th>0</th>\n",
       "      <td>Shallow</td>\n",
       "      <td>24.2</td>\n",
       "      <td>23.51744</td>\n",
       "      <td>90.86417</td>\n",
       "      <td>6.72</td>\n",
       "      <td>-96.0</td>\n",
       "      <td>1416</td>\n",
       "      <td>29.6</td>\n",
       "      <td>0.3</td>\n",
       "      <td>14.03</td>\n",
       "      <td>...</td>\n",
       "      <td>12.51</td>\n",
       "      <td>26.77</td>\n",
       "      <td>0.25</td>\n",
       "      <td>49.18</td>\n",
       "      <td>0.0</td>\n",
       "      <td>13.6364</td>\n",
       "      <td>3.7270</td>\n",
       "      <td>0.0</td>\n",
       "      <td>3.4724</td>\n",
       "      <td>0.0000</td>\n",
       "    </tr>\n",
       "    <tr>\n",
       "      <th>1</th>\n",
       "      <td>Deep</td>\n",
       "      <td>181.8</td>\n",
       "      <td>23.54386</td>\n",
       "      <td>90.83903</td>\n",
       "      <td>6.74</td>\n",
       "      <td>-33.0</td>\n",
       "      <td>465</td>\n",
       "      <td>31.4</td>\n",
       "      <td>1.2</td>\n",
       "      <td>6.51</td>\n",
       "      <td>...</td>\n",
       "      <td>26.29</td>\n",
       "      <td>56.25</td>\n",
       "      <td>0.16</td>\n",
       "      <td>79.11</td>\n",
       "      <td>0.0</td>\n",
       "      <td>0.0000</td>\n",
       "      <td>4.2555</td>\n",
       "      <td>0.0</td>\n",
       "      <td>2.7421</td>\n",
       "      <td>0.0000</td>\n",
       "    </tr>\n",
       "    <tr>\n",
       "      <th>2</th>\n",
       "      <td>Deep</td>\n",
       "      <td>242.4</td>\n",
       "      <td>23.52825</td>\n",
       "      <td>90.82956</td>\n",
       "      <td>6.73</td>\n",
       "      <td>-19.0</td>\n",
       "      <td>496</td>\n",
       "      <td>31.1</td>\n",
       "      <td>1.5</td>\n",
       "      <td>6.23</td>\n",
       "      <td>...</td>\n",
       "      <td>29.24</td>\n",
       "      <td>62.56</td>\n",
       "      <td>0.22</td>\n",
       "      <td>51.76</td>\n",
       "      <td>0.0</td>\n",
       "      <td>0.0000</td>\n",
       "      <td>3.3989</td>\n",
       "      <td>0.0</td>\n",
       "      <td>0.0000</td>\n",
       "      <td>0.0000</td>\n",
       "    </tr>\n",
       "    <tr>\n",
       "      <th>3</th>\n",
       "      <td>Deep</td>\n",
       "      <td>303.0</td>\n",
       "      <td>23.52561</td>\n",
       "      <td>90.84586</td>\n",
       "      <td>6.72</td>\n",
       "      <td>-25.0</td>\n",
       "      <td>761</td>\n",
       "      <td>32.1</td>\n",
       "      <td>5.3</td>\n",
       "      <td>5.85</td>\n",
       "      <td>...</td>\n",
       "      <td>23.58</td>\n",
       "      <td>50.45</td>\n",
       "      <td>0.38</td>\n",
       "      <td>43.75</td>\n",
       "      <td>0.0</td>\n",
       "      <td>1.2759</td>\n",
       "      <td>154.3860</td>\n",
       "      <td>0.0</td>\n",
       "      <td>0.0000</td>\n",
       "      <td>4.3982</td>\n",
       "    </tr>\n",
       "    <tr>\n",
       "      <th>4</th>\n",
       "      <td>Shallow</td>\n",
       "      <td>84.8</td>\n",
       "      <td>23.54328</td>\n",
       "      <td>90.78681</td>\n",
       "      <td>6.72</td>\n",
       "      <td>17.0</td>\n",
       "      <td>1261</td>\n",
       "      <td>31.0</td>\n",
       "      <td>2.4</td>\n",
       "      <td>16.93</td>\n",
       "      <td>...</td>\n",
       "      <td>14.13</td>\n",
       "      <td>30.22</td>\n",
       "      <td>0.68</td>\n",
       "      <td>69.22</td>\n",
       "      <td>0.0</td>\n",
       "      <td>1.7589</td>\n",
       "      <td>3.1335</td>\n",
       "      <td>0.0</td>\n",
       "      <td>6.0100</td>\n",
       "      <td>0.0000</td>\n",
       "    </tr>\n",
       "  </tbody>\n",
       "</table>\n",
       "<p>5 rows × 38 columns</p>\n",
       "</div>"
      ],
      "text/plain": [
       "  Type_of_well  Well_Depth  Lattitude  Longitude    pH    Eh  Cond  Temp   DO  \\\n",
       "0      Shallow        24.2   23.51744   90.86417  6.72 -96.0  1416  29.6  0.3   \n",
       "1         Deep       181.8   23.54386   90.83903  6.74 -33.0   465  31.4  1.2   \n",
       "2         Deep       242.4   23.52825   90.82956  6.73 -19.0   496  31.1  1.5   \n",
       "3         Deep       303.0   23.52561   90.84586  6.72 -25.0   761  32.1  5.3   \n",
       "4      Shallow        84.8   23.54328   90.78681  6.72  17.0  1261  31.0  2.4   \n",
       "\n",
       "     DOC  ...     Si   SiO2    Sr     Zn   Cd       Cr        Cu   Mo      Ni  \\\n",
       "0  14.03  ...  12.51  26.77  0.25  49.18  0.0  13.6364    3.7270  0.0  3.4724   \n",
       "1   6.51  ...  26.29  56.25  0.16  79.11  0.0   0.0000    4.2555  0.0  2.7421   \n",
       "2   6.23  ...  29.24  62.56  0.22  51.76  0.0   0.0000    3.3989  0.0  0.0000   \n",
       "3   5.85  ...  23.58  50.45  0.38  43.75  0.0   1.2759  154.3860  0.0  0.0000   \n",
       "4  16.93  ...  14.13  30.22  0.68  69.22  0.0   1.7589    3.1335  0.0  6.0100   \n",
       "\n",
       "       Pb  \n",
       "0  0.0000  \n",
       "1  0.0000  \n",
       "2  0.0000  \n",
       "3  4.3982  \n",
       "4  0.0000  \n",
       "\n",
       "[5 rows x 38 columns]"
      ]
     },
     "execution_count": 3,
     "metadata": {},
     "output_type": "execute_result"
    }
   ],
   "source": [
    "# Showing the first five rows of train data set \n",
    "data.head()"
   ]
  },
  {
   "cell_type": "code",
   "execution_count": 4,
   "metadata": {},
   "outputs": [
    {
     "name": "stdout",
     "output_type": "stream",
     "text": [
      "<class 'pandas.core.frame.DataFrame'>\n",
      "RangeIndex: 160 entries, 0 to 159\n",
      "Data columns (total 38 columns):\n",
      "Type_of_well    160 non-null object\n",
      "Well_Depth      160 non-null float64\n",
      "Lattitude       160 non-null float64\n",
      "Longitude       160 non-null float64\n",
      "pH              160 non-null float64\n",
      "Eh              160 non-null float64\n",
      "Cond            160 non-null int64\n",
      "Temp            160 non-null float64\n",
      "DO              160 non-null float64\n",
      "DOC             160 non-null float64\n",
      "HCO3            160 non-null float64\n",
      "Cl              160 non-null float64\n",
      "NO3             160 non-null float64\n",
      "SO4             160 non-null float64\n",
      "PO4             160 non-null float64\n",
      "NH4             160 non-null float64\n",
      "Al              160 non-null float64\n",
      "As              160 non-null float64\n",
      "B               160 non-null float64\n",
      "Ba              160 non-null float64\n",
      "Ca              160 non-null float64\n",
      "Fe              160 non-null float64\n",
      "K               160 non-null float64\n",
      "Mg              160 non-null float64\n",
      "Mn              160 non-null float64\n",
      "Na              160 non-null float64\n",
      "P               160 non-null float64\n",
      "S               160 non-null float64\n",
      "Si              160 non-null float64\n",
      "SiO2            160 non-null float64\n",
      "Sr              160 non-null float64\n",
      "Zn              160 non-null float64\n",
      "Cd              160 non-null float64\n",
      "Cr              160 non-null float64\n",
      "Cu              160 non-null float64\n",
      "Mo              160 non-null float64\n",
      "Ni              160 non-null float64\n",
      "Pb              160 non-null float64\n",
      "dtypes: float64(36), int64(1), object(1)\n",
      "memory usage: 47.6+ KB\n"
     ]
    }
   ],
   "source": [
    "data.info()"
   ]
  },
  {
   "cell_type": "code",
   "execution_count": 5,
   "metadata": {},
   "outputs": [
    {
     "data": {
      "text/plain": [
       "Type_of_well    0\n",
       "Well_Depth      0\n",
       "Lattitude       0\n",
       "Longitude       0\n",
       "pH              0\n",
       "Eh              0\n",
       "Cond            0\n",
       "Temp            0\n",
       "DO              0\n",
       "DOC             0\n",
       "HCO3            0\n",
       "Cl              0\n",
       "NO3             0\n",
       "SO4             0\n",
       "PO4             0\n",
       "NH4             0\n",
       "Al              0\n",
       "As              0\n",
       "B               0\n",
       "Ba              0\n",
       "Ca              0\n",
       "Fe              0\n",
       "K               0\n",
       "Mg              0\n",
       "Mn              0\n",
       "Na              0\n",
       "P               0\n",
       "S               0\n",
       "Si              0\n",
       "SiO2            0\n",
       "Sr              0\n",
       "Zn              0\n",
       "Cd              0\n",
       "Cr              0\n",
       "Cu              0\n",
       "Mo              0\n",
       "Ni              0\n",
       "Pb              0\n",
       "dtype: int64"
      ]
     },
     "execution_count": 5,
     "metadata": {},
     "output_type": "execute_result"
    }
   ],
   "source": [
    "data.isnull().sum()"
   ]
  },
  {
   "cell_type": "code",
   "execution_count": 6,
   "metadata": {},
   "outputs": [
    {
     "data": {
      "text/plain": [
       "Shallow    128\n",
       "Deep        32\n",
       "Name: Type_of_well, dtype: int64"
      ]
     },
     "execution_count": 6,
     "metadata": {},
     "output_type": "execute_result"
    }
   ],
   "source": [
    "data['Type_of_well'].value_counts()"
   ]
  },
  {
   "cell_type": "code",
   "execution_count": 7,
   "metadata": {},
   "outputs": [],
   "source": [
    "data['Type_of_well']=pd.get_dummies(data.Type_of_well, drop_first=True)"
   ]
  },
  {
   "cell_type": "code",
   "execution_count": 8,
   "metadata": {},
   "outputs": [
    {
     "name": "stdout",
     "output_type": "stream",
     "text": [
      "Encoded: \n",
      "\n",
      "1    128\n",
      "0     32\n",
      "Name: Type_of_well, dtype: int64\n"
     ]
    }
   ],
   "source": [
    "print('Encoded: \\n')\n",
    "print(data['Type_of_well'].value_counts())"
   ]
  },
  {
   "cell_type": "code",
   "execution_count": 9,
   "metadata": {},
   "outputs": [],
   "source": [
    "y = data['As']\n",
    "X = data.drop([ 'As'], axis=1)"
   ]
  },
  {
   "cell_type": "code",
   "execution_count": 10,
   "metadata": {},
   "outputs": [],
   "source": [
    "from sklearn.model_selection import train_test_split\n",
    "X_train, X_test, y_train, y_test = train_test_split(\n",
    "                                    X, y, random_state=42,test_size=.23)"
   ]
  },
  {
   "cell_type": "code",
   "execution_count": 11,
   "metadata": {},
   "outputs": [],
   "source": [
    "from sklearn.ensemble import RandomForestRegressor\n",
    "from sklearn.feature_selection import SelectFromModel \n",
    "select= SelectFromModel(RandomForestRegressor(n_estimators=10,random_state=32),threshold=\"median\")\n",
    "\n",
    "select.fit(X_train,y_train)\n",
    "X_train_l1=select.transform(X_train)\n",
    "X_test_L1=select.transform(X_test)\n",
    "\n",
    "select.fit(X,y)\n",
    "X_l1=select.transform(X)"
   ]
  },
  {
   "cell_type": "code",
   "execution_count": 12,
   "metadata": {},
   "outputs": [],
   "source": [
    "from sklearn import linear_model\n",
    "from sklearn import ensemble\n",
    "nr = linear_model.LinearRegression()\n"
   ]
  },
  {
   "cell_type": "code",
   "execution_count": 13,
   "metadata": {},
   "outputs": [],
   "source": [
    "model = nr.fit(X_train, y_train)"
   ]
  },
  {
   "cell_type": "code",
   "execution_count": 14,
   "metadata": {},
   "outputs": [
    {
     "name": "stdout",
     "output_type": "stream",
     "text": [
      "R^2 is: \n",
      " 0.8303911430381374\n"
     ]
    }
   ],
   "source": [
    "print (\"R^2 is: \\n\", model.score(X_test, y_test))"
   ]
  },
  {
   "cell_type": "code",
   "execution_count": 15,
   "metadata": {},
   "outputs": [
    {
     "name": "stdout",
     "output_type": "stream",
     "text": [
      "Accuracy without feature preprocessing :\n",
      "Cross validation Scores: [ 1.94999421e-01  4.77452999e-01  7.76888594e-01  6.32992596e-01\n",
      "  1.81577654e-01 -1.35931926e+00  7.90078545e-01  8.98760231e-01\n",
      " -1.50620605e+00 -2.87174979e+03]\n",
      "Cross validation Scores: -287.06625638164076\n",
      "Accuracy with feature preprocessing :\n",
      "Cross validation Scores: [ 6.03044615e-01  3.99642997e-01  6.30046550e-01  6.74546812e-01\n",
      "  5.88054639e-01 -1.08457659e+00  7.64383816e-01  8.86741817e-01\n",
      " -6.61617571e-01 -4.82082638e+02]\n",
      "Average Cross validation score: -47.93\n",
      "With out Cross validation and Without feature preprocessing\n",
      "83.04\n",
      "With out Cross validation and With feature preprocessing\n",
      "80.62\n"
     ]
    }
   ],
   "source": [
    "scores= cross_val_score(nr,X,y,cv=10)\n",
    "print(\"Accuracy without feature preprocessing :\")\n",
    "print(\"Cross validation Scores: {}\".format(scores))\n",
    "print(\"Cross validation Scores: {}\".format(scores.mean()))\n",
    "\n",
    "scores= cross_val_score(nr,X_l1,y,cv=10)\n",
    "print(\"Accuracy with feature preprocessing :\")\n",
    "print(\"Cross validation Scores: {}\".format(scores))\n",
    "print(\"Average Cross validation score: {:.2f}\".format(scores.mean()))\n",
    "\n",
    "model_a=nr.fit(X_train,y_train)\n",
    "accuracy = round(model_a.score(X_test,y_test)*100,2)\n",
    "print(\"With out Cross validation and Without feature preprocessing\")\n",
    "print (accuracy)\n",
    "\n",
    "\n",
    "model_b=nr.fit(X_train_l1,y_train)\n",
    "accuracy = round(model_b.score(X_test_L1,y_test)*100,2)\n",
    "print(\"With out Cross validation and With feature preprocessing\")\n",
    "print (accuracy)"
   ]
  },
  {
   "cell_type": "code",
   "execution_count": 16,
   "metadata": {},
   "outputs": [
    {
     "ename": "ValueError",
     "evalue": "shapes (37,37) and (19,) not aligned: 37 (dim 1) != 19 (dim 0)",
     "output_type": "error",
     "traceback": [
      "\u001b[1;31m---------------------------------------------------------------------------\u001b[0m",
      "\u001b[1;31mValueError\u001b[0m                                Traceback (most recent call last)",
      "\u001b[1;32m<ipython-input-16-18cc566e98c9>\u001b[0m in \u001b[0;36m<module>\u001b[1;34m()\u001b[0m\n\u001b[1;32m----> 1\u001b[1;33m \u001b[0mpredictions\u001b[0m \u001b[1;33m=\u001b[0m \u001b[0mmodel_a\u001b[0m\u001b[1;33m.\u001b[0m\u001b[0mpredict\u001b[0m\u001b[1;33m(\u001b[0m\u001b[0mX_test\u001b[0m\u001b[1;33m)\u001b[0m\u001b[1;33m\u001b[0m\u001b[0m\n\u001b[0m",
      "\u001b[1;32m~\\Anaconda3\\lib\\site-packages\\sklearn\\linear_model\\_base.py\u001b[0m in \u001b[0;36mpredict\u001b[1;34m(self, X)\u001b[0m\n\u001b[0;32m    223\u001b[0m             \u001b[0mReturns\u001b[0m \u001b[0mpredicted\u001b[0m \u001b[0mvalues\u001b[0m\u001b[1;33m.\u001b[0m\u001b[1;33m\u001b[0m\u001b[0m\n\u001b[0;32m    224\u001b[0m         \"\"\"\n\u001b[1;32m--> 225\u001b[1;33m         \u001b[1;32mreturn\u001b[0m \u001b[0mself\u001b[0m\u001b[1;33m.\u001b[0m\u001b[0m_decision_function\u001b[0m\u001b[1;33m(\u001b[0m\u001b[0mX\u001b[0m\u001b[1;33m)\u001b[0m\u001b[1;33m\u001b[0m\u001b[0m\n\u001b[0m\u001b[0;32m    226\u001b[0m \u001b[1;33m\u001b[0m\u001b[0m\n\u001b[0;32m    227\u001b[0m     \u001b[0m_preprocess_data\u001b[0m \u001b[1;33m=\u001b[0m \u001b[0mstaticmethod\u001b[0m\u001b[1;33m(\u001b[0m\u001b[0m_preprocess_data\u001b[0m\u001b[1;33m)\u001b[0m\u001b[1;33m\u001b[0m\u001b[0m\n",
      "\u001b[1;32m~\\Anaconda3\\lib\\site-packages\\sklearn\\linear_model\\_base.py\u001b[0m in \u001b[0;36m_decision_function\u001b[1;34m(self, X)\u001b[0m\n\u001b[0;32m    207\u001b[0m         \u001b[0mX\u001b[0m \u001b[1;33m=\u001b[0m \u001b[0mcheck_array\u001b[0m\u001b[1;33m(\u001b[0m\u001b[0mX\u001b[0m\u001b[1;33m,\u001b[0m \u001b[0maccept_sparse\u001b[0m\u001b[1;33m=\u001b[0m\u001b[1;33m[\u001b[0m\u001b[1;34m'csr'\u001b[0m\u001b[1;33m,\u001b[0m \u001b[1;34m'csc'\u001b[0m\u001b[1;33m,\u001b[0m \u001b[1;34m'coo'\u001b[0m\u001b[1;33m]\u001b[0m\u001b[1;33m)\u001b[0m\u001b[1;33m\u001b[0m\u001b[0m\n\u001b[0;32m    208\u001b[0m         return safe_sparse_dot(X, self.coef_.T,\n\u001b[1;32m--> 209\u001b[1;33m                                dense_output=True) + self.intercept_\n\u001b[0m\u001b[0;32m    210\u001b[0m \u001b[1;33m\u001b[0m\u001b[0m\n\u001b[0;32m    211\u001b[0m     \u001b[1;32mdef\u001b[0m \u001b[0mpredict\u001b[0m\u001b[1;33m(\u001b[0m\u001b[0mself\u001b[0m\u001b[1;33m,\u001b[0m \u001b[0mX\u001b[0m\u001b[1;33m)\u001b[0m\u001b[1;33m:\u001b[0m\u001b[1;33m\u001b[0m\u001b[0m\n",
      "\u001b[1;32m~\\Anaconda3\\lib\\site-packages\\sklearn\\utils\\extmath.py\u001b[0m in \u001b[0;36msafe_sparse_dot\u001b[1;34m(a, b, dense_output)\u001b[0m\n\u001b[0;32m    149\u001b[0m             \u001b[0mret\u001b[0m \u001b[1;33m=\u001b[0m \u001b[0mnp\u001b[0m\u001b[1;33m.\u001b[0m\u001b[0mdot\u001b[0m\u001b[1;33m(\u001b[0m\u001b[0ma\u001b[0m\u001b[1;33m,\u001b[0m \u001b[0mb\u001b[0m\u001b[1;33m)\u001b[0m\u001b[1;33m\u001b[0m\u001b[0m\n\u001b[0;32m    150\u001b[0m     \u001b[1;32melse\u001b[0m\u001b[1;33m:\u001b[0m\u001b[1;33m\u001b[0m\u001b[0m\n\u001b[1;32m--> 151\u001b[1;33m         \u001b[0mret\u001b[0m \u001b[1;33m=\u001b[0m \u001b[0ma\u001b[0m \u001b[1;33m@\u001b[0m \u001b[0mb\u001b[0m\u001b[1;33m\u001b[0m\u001b[0m\n\u001b[0m\u001b[0;32m    152\u001b[0m \u001b[1;33m\u001b[0m\u001b[0m\n\u001b[0;32m    153\u001b[0m     if (sparse.issparse(a) and sparse.issparse(b)\n",
      "\u001b[1;31mValueError\u001b[0m: shapes (37,37) and (19,) not aligned: 37 (dim 1) != 19 (dim 0)"
     ]
    }
   ],
   "source": [
    "predictions = model_a.predict(X_test)"
   ]
  },
  {
   "cell_type": "code",
   "execution_count": null,
   "metadata": {},
   "outputs": [],
   "source": [
    "from sklearn.metrics import mean_squared_error\n",
    "print ('RMSE is: \\n', mean_squared_error(y_test, predictions))"
   ]
  },
  {
   "cell_type": "code",
   "execution_count": null,
   "metadata": {},
   "outputs": [],
   "source": [
    "actual_values = y_test\n",
    "plt.scatter(predictions, actual_values, alpha=.75,\n",
    "            color='b') #alpha helps to show overlapping data\n",
    "plt.xlabel('Predicted As')\n",
    "plt.ylabel('Actual As')\n",
    "plt.title('Linear Regression Model')"
   ]
  },
  {
   "cell_type": "code",
   "execution_count": null,
   "metadata": {},
   "outputs": [],
   "source": [
    "for i in range (-2, 3): \n",
    "    alpha = 10**i\n",
    "    rm = linear_model.Ridge(alpha=alpha)\n",
    "    ridge_model = rm.fit(X_train, y_train)\n",
    "    preds_ridge = ridge_model.predict(X_test)\n",
    "    \n",
    "    plt.scatter(preds_ridge, actual_values, alpha=.75, color='b')\n",
    "    plt.xlabel('Predicted Price')\n",
    "    plt.ylabel('Actual Price')\n",
    "    plt.title('Ridge Regularization with alpha = {}'.format(alpha))\n",
    "    overlay = 'R^2 is: {}\\nRMSE is: {}'.format(\n",
    "                    ridge_model.score(X_test, y_test),\n",
    "                    mean_squared_error(y_test, preds_ridge))\n",
    "    plt.annotate(s=overlay,xy=(12.1,10.6),size='x-large')\n",
    "    plt.show()"
   ]
  },
  {
   "cell_type": "code",
   "execution_count": null,
   "metadata": {},
   "outputs": [],
   "source": [
    "for i in range (-2, 3): \n",
    "    alpha = 10**i\n",
    "    rm = linear_model.Lasso(alpha=alpha)\n",
    "    ridge_model = rm.fit(X_train, y_train)\n",
    "    preds_ridge = ridge_model.predict(X_test)\n",
    "    \n",
    "    plt.scatter(preds_ridge, actual_values, alpha=.75, color='b')\n",
    "    plt.xlabel('Predicted Price')\n",
    "    plt.ylabel('Actual Price')\n",
    "    plt.title('Lasso Regularization with alpha = {}'.format(alpha))\n",
    "    overlay = 'R^2 is: {}\\nRMSE is: {}'.format(\n",
    "                    ridge_model.score(X_test, y_test),\n",
    "                    mean_squared_error(y_test, preds_ridge))\n",
    "    plt.annotate(s=overlay,xy=(12.1,10.6),size='x-large')\n",
    "    plt.show()"
   ]
  },
  {
   "cell_type": "code",
   "execution_count": null,
   "metadata": {},
   "outputs": [],
   "source": [
    "mr =  ensemble.RandomForestRegressor(n_estimators = 10, random_state=32)"
   ]
  },
  {
   "cell_type": "code",
   "execution_count": null,
   "metadata": {},
   "outputs": [],
   "source": [
    "model_A = mr.fit(X_train,y_train)"
   ]
  },
  {
   "cell_type": "code",
   "execution_count": null,
   "metadata": {},
   "outputs": [],
   "source": [
    "accuracy = round(model_A.score(X_train,y_train)*100,2)\n",
    "print (accuracy)"
   ]
  },
  {
   "cell_type": "code",
   "execution_count": null,
   "metadata": {},
   "outputs": [],
   "source": [
    "ko=RandomForestRegressor(n_estimators=100,random_state=32)\n",
    "\n",
    "model_ki=ko.fit(X_train,y_train)\n",
    "\n",
    "scores= cross_val_score(ko,X,y,cv=10)\n",
    "print(\"Accuracy without feature preprocessing :\")\n",
    "print(\"Cross validation Scores: {}\".format(scores))\n",
    "print(\"Average Cross validation score : {:.2f}\".format(scores.mean()))\n",
    "\n",
    "scores= cross_val_score(ko,X_l1,y,cv=10)\n",
    "print(\"Accuracy with feature preprocessing :\")\n",
    "print(\"Cross validation Scores: {}\".format(scores))\n",
    "print(\"Average Cross validation score : {:.2f}\".format(scores.mean()))\n",
    "\n",
    "model_hi= ko.fit(X_train_l1,y_train)\n",
    "acc_logistic = round(model_hi.score(X_test_L1,y_test)*100,2)\n",
    "print(\"Model with feature preprocessing but without cross validation : \")\n",
    "print (acc_logistic)\n",
    "\n",
    "model_ki=ko.fit(X_train,y_train)\n",
    "acc_logistic = round(model_ki.score(X_test,y_test)*100,2)\n",
    "print(\"Model without feature preprocessing and without cross validation : \")\n",
    "print (acc_logistic)"
   ]
  },
  {
   "cell_type": "code",
   "execution_count": null,
   "metadata": {},
   "outputs": [],
   "source": [
    "lr = ensemble.GradientBoostingRegressor()\n",
    "model_B=nr.fit(X_train,y_train)\n",
    "predict_value=model_B.predict(X_test)\n",
    "acc_logistic = round(model_B.score(X_test,y_test)*100,2)\n",
    "print (acc_logistic)"
   ]
  },
  {
   "cell_type": "code",
   "execution_count": null,
   "metadata": {},
   "outputs": [],
   "source": [
    "from sklearn.tree import DecisionTreeRegressor\n",
    "clf = DecisionTreeRegressor(max_depth=2)\n",
    "model_H=clf.fit(X_train,y_train)\n",
    "accuracy = round(model_H.score(X_test,y_test)*100,2)\n",
    "print (accuracy)"
   ]
  },
  {
   "cell_type": "code",
   "execution_count": null,
   "metadata": {},
   "outputs": [],
   "source": [
    "clf = DecisionTreeRegressor(max_depth=None)\n",
    "model_J=clf.fit(X_train,y_train)\n",
    "accuracy = round(model_J.score(X_test,y_test)*100,2)\n",
    "print (accuracy)"
   ]
  },
  {
   "cell_type": "code",
   "execution_count": null,
   "metadata": {},
   "outputs": [],
   "source": [
    "clf = DecisionTreeRegressor(max_depth=3)\n",
    "model_r=clf.fit(X_train,y_train)\n",
    "accuracy = round(model_r.score(X_test,y_test)*100,2)\n",
    "print (accuracy)"
   ]
  },
  {
   "cell_type": "code",
   "execution_count": null,
   "metadata": {},
   "outputs": [],
   "source": [
    "from sklearn.ensemble import RandomForestRegressor\n",
    "from sklearn.feature_selection import SelectFromModel "
   ]
  },
  {
   "cell_type": "code",
   "execution_count": null,
   "metadata": {},
   "outputs": [],
   "source": [
    "select= SelectFromModel(RandomForestRegressor(n_estimators=10,random_state=32),threshold=\"median\")"
   ]
  },
  {
   "cell_type": "code",
   "execution_count": null,
   "metadata": {},
   "outputs": [],
   "source": [
    "select.fit(X_train,y_train)\n",
    "X_train_l1=select.transform(X_train)"
   ]
  },
  {
   "cell_type": "code",
   "execution_count": null,
   "metadata": {},
   "outputs": [],
   "source": [
    "X_test_L1=select.transform(X_test)\n",
    " "
   ]
  },
  {
   "cell_type": "code",
   "execution_count": null,
   "metadata": {},
   "outputs": [],
   "source": [
    "tt = ensemble.GradientBoostingRegressor()\n",
    "model_tt=tt.fit(X_train_l1,y_train)\n",
    "predict_value=model_tt.predict(X_test_L1)\n",
    "acc_logistic = round(model_tt.score(X_test_L1,y_test)*100,2)\n",
    "print (acc_logistic)"
   ]
  },
  {
   "cell_type": "code",
   "execution_count": null,
   "metadata": {},
   "outputs": [],
   "source": [
    "from sklearn.tree import DecisionTreeRegressor\n",
    "clf = DecisionTreeRegressor(max_depth=2)\n",
    "model_H=clf.fit(X_train_l1,y_train)\n",
    "accuracy = round(model_H.score(X_test_L1,y_test)*100,2)\n",
    "print (accuracy)"
   ]
  }
 ],
 "metadata": {
  "kernelspec": {
   "display_name": "Python 3",
   "language": "python",
   "name": "python3"
  },
  "language_info": {
   "codemirror_mode": {
    "name": "ipython",
    "version": 3
   },
   "file_extension": ".py",
   "mimetype": "text/x-python",
   "name": "python",
   "nbconvert_exporter": "python",
   "pygments_lexer": "ipython3",
   "version": "3.7.0"
  }
 },
 "nbformat": 4,
 "nbformat_minor": 2
}
